{
 "cells": [
  {
   "cell_type": "markdown",
   "metadata": {},
   "source": [
    "<h1>Importing Libraries</h1>"
   ]
  },
  {
   "cell_type": "code",
   "execution_count": 18,
   "metadata": {},
   "outputs": [],
   "source": [
    "\"\"\"\n",
    "Code borrowed from: https://hackernoon.com/build-your-first-neural-network-to-predict-house-prices-with-keras-3fb0839680f4\n",
    "Dataset collected from: https://drive.google.com/file/d/1GfvKA0qznNVknghV4botnNxyH-KvODOC/view\n",
    "\n",
    "Features included in the dataset:\n",
    "- Lot Area (in sq ft)\n",
    "- Overall Quality (scale from 1 to 10)\n",
    "- Overall Condition (scale from 1 to 10)\n",
    "- Total Basement Area (in sq ft)\n",
    "- Number of Full Bathrooms\n",
    "- Number of Half Bathrooms\n",
    "- Number of Bedrooms above ground\n",
    "- Total Number of Rooms above ground\n",
    "- Number of Fireplaces\n",
    "- Garage Area (in sq ft)\n",
    "\n",
    "\"\"\"\n",
    "import pandas as pd\n",
    "from sklearn import preprocessing\n",
    "from sklearn.model_selection import train_test_split\n",
    "import tensorflow as tf\n",
    "import tensorflow.keras as keras\n",
    "import matplotlib.pyplot as plt"
   ]
  },
  {
   "cell_type": "markdown",
   "metadata": {},
   "source": [
    "<h1>Data Preprocessing</h1>"
   ]
  },
  {
   "cell_type": "code",
   "execution_count": 19,
   "metadata": {},
   "outputs": [
    {
     "name": "stdout",
     "output_type": "stream",
     "text": [
      "   LotArea  OverallQual  OverallCond  TotalBsmtSF  FullBath  HalfBath  \\\n",
      "0     8450            7            5          856         2         1   \n",
      "1     9600            6            8         1262         2         0   \n",
      "2    11250            7            5          920         2         1   \n",
      "3     9550            7            5          756         1         0   \n",
      "4    14260            8            5         1145         2         1   \n",
      "\n",
      "   BedroomAbvGr  TotRmsAbvGrd  Fireplaces  GarageArea  AboveMedianPrice  \n",
      "0             3             8           0         548                 1  \n",
      "1             3             6           1         460                 1  \n",
      "2             3             6           1         608                 1  \n",
      "3             3             7           1         642                 0  \n",
      "4             4             9           1         836                 1  \n"
     ]
    }
   ],
   "source": [
    "df = pd.read_csv('C:/Books/Texas State Books/House_Prices/housepricedata.csv')\n",
    "print(df.head())"
   ]
  },
  {
   "cell_type": "code",
   "execution_count": 20,
   "metadata": {},
   "outputs": [],
   "source": [
    "# Separate features from labels in arrays\n",
    "X = df.iloc[:,0:10].values\n",
    "Y = df.iloc[:,10].values"
   ]
  },
  {
   "cell_type": "code",
   "execution_count": 21,
   "metadata": {},
   "outputs": [],
   "source": [
    "# Normalize features between 0 and 1, inclusive\n",
    "min_max_scaler = preprocessing.MinMaxScaler()\n",
    "X_scale = min_max_scaler.fit_transform(X)"
   ]
  },
  {
   "cell_type": "code",
   "execution_count": 22,
   "metadata": {},
   "outputs": [
    {
     "name": "stdout",
     "output_type": "stream",
     "text": [
      "(1022, 10) (219, 10) (219, 10) (1022,) (219,) (219,)\n"
     ]
    }
   ],
   "source": [
    "# Create the training and test split\n",
    "X_train, X_val_and_test, Y_train, Y_val_and_test = train_test_split(X_scale, Y, test_size=0.3)\n",
    "\n",
    "# Furthermore, create the validation split\n",
    "X_val, X_test, Y_val, Y_test = train_test_split(X_val_and_test, Y_val_and_test, test_size=0.5)\n",
    "\n",
    "print(X_train.shape, X_val.shape, X_test.shape, Y_train.shape, Y_val.shape, Y_test.shape)"
   ]
  },
  {
   "cell_type": "markdown",
   "metadata": {},
   "source": [
    "<h1>Training</h1>"
   ]
  },
  {
   "cell_type": "code",
   "execution_count": 23,
   "metadata": {},
   "outputs": [],
   "source": [
    "# Define the MLP architecture\n",
    "model = keras.models.Sequential([\n",
    "    keras.layers.Dense(32, activation='relu', input_shape=(10,)),\n",
    "    keras.layers.Dense(32, activation='relu'),\n",
    "    keras.layers.Dense(1, activation='sigmoid'),\n",
    "])"
   ]
  },
  {
   "cell_type": "code",
   "execution_count": 24,
   "metadata": {},
   "outputs": [],
   "source": [
    "model.compile(optimizer='sgd',\n",
    "              loss='binary_crossentropy',\n",
    "              metrics=['accuracy'])"
   ]
  },
  {
   "cell_type": "code",
   "execution_count": 25,
   "metadata": {},
   "outputs": [
    {
     "name": "stdout",
     "output_type": "stream",
     "text": [
      "Train on 1022 samples, validate on 219 samples\n",
      "Epoch 1/100\n",
      "1022/1022 [==============================] - 1s 618us/sample - loss: 0.7232 - accuracy: 0.4932 - val_loss: 0.7107 - val_accuracy: 0.5160\n",
      "Epoch 2/100\n",
      "1022/1022 [==============================] - 0s 79us/sample - loss: 0.7116 - accuracy: 0.4922 - val_loss: 0.7031 - val_accuracy: 0.5205\n",
      "Epoch 3/100\n",
      "1022/1022 [==============================] - 0s 79us/sample - loss: 0.7037 - accuracy: 0.4873 - val_loss: 0.6976 - val_accuracy: 0.4932\n",
      "Epoch 4/100\n",
      "1022/1022 [==============================] - 0s 99us/sample - loss: 0.6982 - accuracy: 0.4716 - val_loss: 0.6935 - val_accuracy: 0.4932\n",
      "Epoch 5/100\n",
      "1022/1022 [==============================] - 0s 169us/sample - loss: 0.6941 - accuracy: 0.5059 - val_loss: 0.6902 - val_accuracy: 0.4886\n",
      "Epoch 6/100\n",
      "1022/1022 [==============================] - 0s 102us/sample - loss: 0.6908 - accuracy: 0.5342 - val_loss: 0.6876 - val_accuracy: 0.5753\n",
      "Epoch 7/100\n",
      "1022/1022 [==============================] - 0s 109us/sample - loss: 0.6882 - accuracy: 0.6018 - val_loss: 0.6853 - val_accuracy: 0.6758\n",
      "Epoch 8/100\n",
      "1022/1022 [==============================] - 0s 99us/sample - loss: 0.6858 - accuracy: 0.6311 - val_loss: 0.6832 - val_accuracy: 0.6941\n",
      "Epoch 9/100\n",
      "1022/1022 [==============================] - 0s 103us/sample - loss: 0.6835 - accuracy: 0.6438 - val_loss: 0.6810 - val_accuracy: 0.7032\n",
      "Epoch 10/100\n",
      "1022/1022 [==============================] - 0s 112us/sample - loss: 0.6812 - accuracy: 0.6575 - val_loss: 0.6789 - val_accuracy: 0.7032\n",
      "Epoch 11/100\n",
      "1022/1022 [==============================] - 0s 115us/sample - loss: 0.6791 - accuracy: 0.6663 - val_loss: 0.6768 - val_accuracy: 0.7078\n",
      "Epoch 12/100\n",
      "1022/1022 [==============================] - 0s 108us/sample - loss: 0.6769 - accuracy: 0.6859 - val_loss: 0.6745 - val_accuracy: 0.7123\n",
      "Epoch 13/100\n",
      "1022/1022 [==============================] - 0s 110us/sample - loss: 0.6746 - accuracy: 0.6977 - val_loss: 0.6722 - val_accuracy: 0.7215\n",
      "Epoch 14/100\n",
      "1022/1022 [==============================] - 0s 110us/sample - loss: 0.6723 - accuracy: 0.7104 - val_loss: 0.6698 - val_accuracy: 0.7078\n",
      "Epoch 15/100\n",
      "1022/1022 [==============================] - 0s 117us/sample - loss: 0.6700 - accuracy: 0.7231 - val_loss: 0.6674 - val_accuracy: 0.7215\n",
      "Epoch 16/100\n",
      "1022/1022 [==============================] - 0s 125us/sample - loss: 0.6677 - accuracy: 0.7358 - val_loss: 0.6649 - val_accuracy: 0.7306\n",
      "Epoch 17/100\n",
      "1022/1022 [==============================] - 0s 112us/sample - loss: 0.6652 - accuracy: 0.7358 - val_loss: 0.6622 - val_accuracy: 0.7352\n",
      "Epoch 18/100\n",
      "1022/1022 [==============================] - 0s 114us/sample - loss: 0.6626 - accuracy: 0.7524 - val_loss: 0.6595 - val_accuracy: 0.7580\n",
      "Epoch 19/100\n",
      "1022/1022 [==============================] - 0s 111us/sample - loss: 0.6600 - accuracy: 0.7554 - val_loss: 0.6565 - val_accuracy: 0.7717\n",
      "Epoch 20/100\n",
      "1022/1022 [==============================] - 0s 110us/sample - loss: 0.6572 - accuracy: 0.7730 - val_loss: 0.6535 - val_accuracy: 0.7717\n",
      "Epoch 21/100\n",
      "1022/1022 [==============================] - 0s 112us/sample - loss: 0.6542 - accuracy: 0.7818 - val_loss: 0.6503 - val_accuracy: 0.7808\n",
      "Epoch 22/100\n",
      "1022/1022 [==============================] - 0s 85us/sample - loss: 0.6512 - accuracy: 0.7847 - val_loss: 0.6470 - val_accuracy: 0.7808\n",
      "Epoch 23/100\n",
      "1022/1022 [==============================] - 0s 107us/sample - loss: 0.6479 - accuracy: 0.7789 - val_loss: 0.6434 - val_accuracy: 0.7900\n",
      "Epoch 24/100\n",
      "1022/1022 [==============================] - 0s 91us/sample - loss: 0.6445 - accuracy: 0.7877 - val_loss: 0.6396 - val_accuracy: 0.7900\n",
      "Epoch 25/100\n",
      "1022/1022 [==============================] - 0s 87us/sample - loss: 0.6409 - accuracy: 0.7926 - val_loss: 0.6356 - val_accuracy: 0.8037\n",
      "Epoch 26/100\n",
      "1022/1022 [==============================] - 0s 94us/sample - loss: 0.6371 - accuracy: 0.7935 - val_loss: 0.6315 - val_accuracy: 0.8037\n",
      "Epoch 27/100\n",
      "1022/1022 [==============================] - 0s 84us/sample - loss: 0.6331 - accuracy: 0.7984 - val_loss: 0.6272 - val_accuracy: 0.8037\n",
      "Epoch 28/100\n",
      "1022/1022 [==============================] - 0s 84us/sample - loss: 0.6290 - accuracy: 0.8023 - val_loss: 0.6226 - val_accuracy: 0.8128\n",
      "Epoch 29/100\n",
      "1022/1022 [==============================] - 0s 74us/sample - loss: 0.6245 - accuracy: 0.8102 - val_loss: 0.6177 - val_accuracy: 0.8082\n",
      "Epoch 30/100\n",
      "1022/1022 [==============================] - 0s 74us/sample - loss: 0.6198 - accuracy: 0.8072 - val_loss: 0.6127 - val_accuracy: 0.8082\n",
      "Epoch 31/100\n",
      "1022/1022 [==============================] - 0s 78us/sample - loss: 0.6149 - accuracy: 0.8102 - val_loss: 0.6073 - val_accuracy: 0.8128\n",
      "Epoch 32/100\n",
      "1022/1022 [==============================] - 0s 78us/sample - loss: 0.6097 - accuracy: 0.8170 - val_loss: 0.6016 - val_accuracy: 0.8128\n",
      "Epoch 33/100\n",
      "1022/1022 [==============================] - 0s 78us/sample - loss: 0.6042 - accuracy: 0.8190 - val_loss: 0.5958 - val_accuracy: 0.8128\n",
      "Epoch 34/100\n",
      "1022/1022 [==============================] - 0s 75us/sample - loss: 0.5985 - accuracy: 0.8131 - val_loss: 0.5892 - val_accuracy: 0.8356\n",
      "Epoch 35/100\n",
      "1022/1022 [==============================] - 0s 74us/sample - loss: 0.5924 - accuracy: 0.8180 - val_loss: 0.5826 - val_accuracy: 0.8402\n",
      "Epoch 36/100\n",
      "1022/1022 [==============================] - 0s 76us/sample - loss: 0.5862 - accuracy: 0.8200 - val_loss: 0.5759 - val_accuracy: 0.8447\n",
      "Epoch 37/100\n",
      "1022/1022 [==============================] - 0s 66us/sample - loss: 0.5792 - accuracy: 0.8200 - val_loss: 0.5686 - val_accuracy: 0.8493\n",
      "Epoch 38/100\n",
      "1022/1022 [==============================] - 0s 66us/sample - loss: 0.5724 - accuracy: 0.8209 - val_loss: 0.5611 - val_accuracy: 0.8493\n",
      "Epoch 39/100\n",
      "1022/1022 [==============================] - 0s 76us/sample - loss: 0.5651 - accuracy: 0.8229 - val_loss: 0.5531 - val_accuracy: 0.8447\n",
      "Epoch 40/100\n",
      "1022/1022 [==============================] - 0s 87us/sample - loss: 0.5574 - accuracy: 0.8288 - val_loss: 0.5449 - val_accuracy: 0.8447\n",
      "Epoch 41/100\n",
      "1022/1022 [==============================] - 0s 105us/sample - loss: 0.5497 - accuracy: 0.8297 - val_loss: 0.5367 - val_accuracy: 0.8493\n",
      "Epoch 42/100\n",
      "1022/1022 [==============================] - 0s 100us/sample - loss: 0.5417 - accuracy: 0.8317 - val_loss: 0.5286 - val_accuracy: 0.8493\n",
      "Epoch 43/100\n",
      "1022/1022 [==============================] - 0s 89us/sample - loss: 0.5335 - accuracy: 0.8317 - val_loss: 0.5196 - val_accuracy: 0.8539\n",
      "Epoch 44/100\n",
      "1022/1022 [==============================] - 0s 92us/sample - loss: 0.5252 - accuracy: 0.8366 - val_loss: 0.5109 - val_accuracy: 0.8493\n",
      "Epoch 45/100\n",
      "1022/1022 [==============================] - 0s 92us/sample - loss: 0.5166 - accuracy: 0.8337 - val_loss: 0.5018 - val_accuracy: 0.8493\n",
      "Epoch 46/100\n",
      "1022/1022 [==============================] - 0s 90us/sample - loss: 0.5080 - accuracy: 0.8395 - val_loss: 0.4929 - val_accuracy: 0.8539\n",
      "Epoch 47/100\n",
      "1022/1022 [==============================] - 0s 90us/sample - loss: 0.4993 - accuracy: 0.8434 - val_loss: 0.4837 - val_accuracy: 0.8539\n",
      "Epoch 48/100\n",
      "1022/1022 [==============================] - 0s 90us/sample - loss: 0.4906 - accuracy: 0.8405 - val_loss: 0.4753 - val_accuracy: 0.8493\n",
      "Epoch 49/100\n",
      "1022/1022 [==============================] - 0s 90us/sample - loss: 0.4820 - accuracy: 0.8415 - val_loss: 0.4665 - val_accuracy: 0.8539\n",
      "Epoch 50/100\n",
      "1022/1022 [==============================] - 0s 77us/sample - loss: 0.4734 - accuracy: 0.8454 - val_loss: 0.4570 - val_accuracy: 0.8630\n",
      "Epoch 51/100\n",
      "1022/1022 [==============================] - 0s 77us/sample - loss: 0.4650 - accuracy: 0.8464 - val_loss: 0.4486 - val_accuracy: 0.8630\n",
      "Epoch 52/100\n",
      "1022/1022 [==============================] - 0s 79us/sample - loss: 0.4569 - accuracy: 0.8493 - val_loss: 0.4401 - val_accuracy: 0.8630\n",
      "Epoch 53/100\n",
      "1022/1022 [==============================] - 0s 76us/sample - loss: 0.4486 - accuracy: 0.8493 - val_loss: 0.4316 - val_accuracy: 0.8630\n",
      "Epoch 54/100\n",
      "1022/1022 [==============================] - 0s 67us/sample - loss: 0.4410 - accuracy: 0.8503 - val_loss: 0.4236 - val_accuracy: 0.8630\n",
      "Epoch 55/100\n"
     ]
    },
    {
     "name": "stdout",
     "output_type": "stream",
     "text": [
      "1022/1022 [==============================] - 0s 78us/sample - loss: 0.4331 - accuracy: 0.8513 - val_loss: 0.4167 - val_accuracy: 0.8676\n",
      "Epoch 56/100\n",
      "1022/1022 [==============================] - 0s 73us/sample - loss: 0.4261 - accuracy: 0.8542 - val_loss: 0.4091 - val_accuracy: 0.8676\n",
      "Epoch 57/100\n",
      "1022/1022 [==============================] - 0s 73us/sample - loss: 0.4192 - accuracy: 0.8591 - val_loss: 0.4018 - val_accuracy: 0.8676\n",
      "Epoch 58/100\n",
      "1022/1022 [==============================] - 0s 73us/sample - loss: 0.4122 - accuracy: 0.8581 - val_loss: 0.3949 - val_accuracy: 0.8676\n",
      "Epoch 59/100\n",
      "1022/1022 [==============================] - 0s 66us/sample - loss: 0.4057 - accuracy: 0.8562 - val_loss: 0.3880 - val_accuracy: 0.8676\n",
      "Epoch 60/100\n",
      "1022/1022 [==============================] - 0s 66us/sample - loss: 0.3995 - accuracy: 0.8611 - val_loss: 0.3824 - val_accuracy: 0.8676\n",
      "Epoch 61/100\n",
      "1022/1022 [==============================] - 0s 66us/sample - loss: 0.3937 - accuracy: 0.8630 - val_loss: 0.3757 - val_accuracy: 0.8630\n",
      "Epoch 62/100\n",
      "1022/1022 [==============================] - 0s 71us/sample - loss: 0.3879 - accuracy: 0.8669 - val_loss: 0.3700 - val_accuracy: 0.8584\n",
      "Epoch 63/100\n",
      "1022/1022 [==============================] - 0s 66us/sample - loss: 0.3830 - accuracy: 0.8669 - val_loss: 0.3663 - val_accuracy: 0.8676\n",
      "Epoch 64/100\n",
      "1022/1022 [==============================] - 0s 64us/sample - loss: 0.3776 - accuracy: 0.8659 - val_loss: 0.3608 - val_accuracy: 0.8630\n",
      "Epoch 65/100\n",
      "1022/1022 [==============================] - 0s 64us/sample - loss: 0.3729 - accuracy: 0.8650 - val_loss: 0.3578 - val_accuracy: 0.8676\n",
      "Epoch 66/100\n",
      "1022/1022 [==============================] - 0s 67us/sample - loss: 0.3686 - accuracy: 0.8689 - val_loss: 0.3521 - val_accuracy: 0.8630\n",
      "Epoch 67/100\n",
      "1022/1022 [==============================] - 0s 72us/sample - loss: 0.3644 - accuracy: 0.8689 - val_loss: 0.3485 - val_accuracy: 0.8630\n",
      "Epoch 68/100\n",
      "1022/1022 [==============================] - 0s 74us/sample - loss: 0.3602 - accuracy: 0.8689 - val_loss: 0.3463 - val_accuracy: 0.8630\n",
      "Epoch 69/100\n",
      "1022/1022 [==============================] - 0s 73us/sample - loss: 0.3565 - accuracy: 0.8718 - val_loss: 0.3417 - val_accuracy: 0.8630\n",
      "Epoch 70/100\n",
      "1022/1022 [==============================] - 0s 72us/sample - loss: 0.3525 - accuracy: 0.8738 - val_loss: 0.3383 - val_accuracy: 0.8630\n",
      "Epoch 71/100\n",
      "1022/1022 [==============================] - 0s 71us/sample - loss: 0.3493 - accuracy: 0.8738 - val_loss: 0.3350 - val_accuracy: 0.8630\n",
      "Epoch 72/100\n",
      "1022/1022 [==============================] - 0s 65us/sample - loss: 0.3461 - accuracy: 0.8708 - val_loss: 0.3330 - val_accuracy: 0.8676\n",
      "Epoch 73/100\n",
      "1022/1022 [==============================] - 0s 65us/sample - loss: 0.3429 - accuracy: 0.8757 - val_loss: 0.3308 - val_accuracy: 0.8676\n",
      "Epoch 74/100\n",
      "1022/1022 [==============================] - 0s 73us/sample - loss: 0.3396 - accuracy: 0.8787 - val_loss: 0.3283 - val_accuracy: 0.8721\n",
      "Epoch 75/100\n",
      "1022/1022 [==============================] - 0s 74us/sample - loss: 0.3373 - accuracy: 0.8777 - val_loss: 0.3257 - val_accuracy: 0.8721\n",
      "Epoch 76/100\n",
      "1022/1022 [==============================] - 0s 74us/sample - loss: 0.3342 - accuracy: 0.8718 - val_loss: 0.3260 - val_accuracy: 0.8767\n",
      "Epoch 77/100\n",
      "1022/1022 [==============================] - 0s 73us/sample - loss: 0.3319 - accuracy: 0.8757 - val_loss: 0.3204 - val_accuracy: 0.8721\n",
      "Epoch 78/100\n",
      "1022/1022 [==============================] - 0s 75us/sample - loss: 0.3295 - accuracy: 0.8738 - val_loss: 0.3198 - val_accuracy: 0.8721\n",
      "Epoch 79/100\n",
      "1022/1022 [==============================] - 0s 74us/sample - loss: 0.3273 - accuracy: 0.8738 - val_loss: 0.3185 - val_accuracy: 0.8721\n",
      "Epoch 80/100\n",
      "1022/1022 [==============================] - 0s 73us/sample - loss: 0.3251 - accuracy: 0.8748 - val_loss: 0.3170 - val_accuracy: 0.8767\n",
      "Epoch 81/100\n",
      "1022/1022 [==============================] - 0s 75us/sample - loss: 0.3231 - accuracy: 0.8757 - val_loss: 0.3159 - val_accuracy: 0.8813\n",
      "Epoch 82/100\n",
      "1022/1022 [==============================] - 0s 77us/sample - loss: 0.3211 - accuracy: 0.8767 - val_loss: 0.3124 - val_accuracy: 0.8721\n",
      "Epoch 83/100\n",
      "1022/1022 [==============================] - 0s 78us/sample - loss: 0.3190 - accuracy: 0.8757 - val_loss: 0.3102 - val_accuracy: 0.8767\n",
      "Epoch 84/100\n",
      "1022/1022 [==============================] - 0s 90us/sample - loss: 0.3178 - accuracy: 0.8757 - val_loss: 0.3091 - val_accuracy: 0.8721\n",
      "Epoch 85/100\n",
      "1022/1022 [==============================] - 0s 75us/sample - loss: 0.3157 - accuracy: 0.8767 - val_loss: 0.3091 - val_accuracy: 0.8813\n",
      "Epoch 86/100\n",
      "1022/1022 [==============================] - 0s 68us/sample - loss: 0.3137 - accuracy: 0.8738 - val_loss: 0.3080 - val_accuracy: 0.8813\n",
      "Epoch 87/100\n",
      "1022/1022 [==============================] - 0s 67us/sample - loss: 0.3120 - accuracy: 0.8757 - val_loss: 0.3056 - val_accuracy: 0.8767\n",
      "Epoch 88/100\n",
      "1022/1022 [==============================] - 0s 66us/sample - loss: 0.3107 - accuracy: 0.8777 - val_loss: 0.3066 - val_accuracy: 0.8813\n",
      "Epoch 89/100\n",
      "1022/1022 [==============================] - 0s 73us/sample - loss: 0.3091 - accuracy: 0.8787 - val_loss: 0.3021 - val_accuracy: 0.8767\n",
      "Epoch 90/100\n",
      "1022/1022 [==============================] - 0s 74us/sample - loss: 0.3082 - accuracy: 0.8767 - val_loss: 0.3028 - val_accuracy: 0.8813\n",
      "Epoch 91/100\n",
      "1022/1022 [==============================] - 0s 76us/sample - loss: 0.3065 - accuracy: 0.8816 - val_loss: 0.3020 - val_accuracy: 0.8813\n",
      "Epoch 92/100\n",
      "1022/1022 [==============================] - 0s 75us/sample - loss: 0.3050 - accuracy: 0.8777 - val_loss: 0.2993 - val_accuracy: 0.8767\n",
      "Epoch 93/100\n",
      "1022/1022 [==============================] - 0s 74us/sample - loss: 0.3041 - accuracy: 0.8777 - val_loss: 0.3014 - val_accuracy: 0.8813\n",
      "Epoch 94/100\n",
      "1022/1022 [==============================] - 0s 75us/sample - loss: 0.3028 - accuracy: 0.8787 - val_loss: 0.2991 - val_accuracy: 0.8767\n",
      "Epoch 95/100\n",
      "1022/1022 [==============================] - 0s 66us/sample - loss: 0.3018 - accuracy: 0.8826 - val_loss: 0.2990 - val_accuracy: 0.8767\n",
      "Epoch 96/100\n",
      "1022/1022 [==============================] - 0s 66us/sample - loss: 0.3007 - accuracy: 0.8757 - val_loss: 0.2967 - val_accuracy: 0.8813\n",
      "Epoch 97/100\n",
      "1022/1022 [==============================] - 0s 73us/sample - loss: 0.2994 - accuracy: 0.8816 - val_loss: 0.2972 - val_accuracy: 0.8767\n",
      "Epoch 98/100\n",
      "1022/1022 [==============================] - 0s 74us/sample - loss: 0.2979 - accuracy: 0.8787 - val_loss: 0.2946 - val_accuracy: 0.8813\n",
      "Epoch 99/100\n",
      "1022/1022 [==============================] - 0s 76us/sample - loss: 0.2974 - accuracy: 0.8796 - val_loss: 0.2944 - val_accuracy: 0.8813\n",
      "Epoch 100/100\n",
      "1022/1022 [==============================] - 0s 77us/sample - loss: 0.2969 - accuracy: 0.8806 - val_loss: 0.2944 - val_accuracy: 0.8813\n"
     ]
    }
   ],
   "source": [
    "hist = model.fit(X_train, Y_train,\n",
    "          batch_size=32, epochs=100,\n",
    "          validation_data=(X_val, Y_val))"
   ]
  },
  {
   "cell_type": "markdown",
   "metadata": {},
   "source": [
    "<h1>Testing</h1>"
   ]
  },
  {
   "cell_type": "code",
   "execution_count": 26,
   "metadata": {},
   "outputs": [
    {
     "name": "stdout",
     "output_type": "stream",
     "text": [
      "219/219 [==============================] - 0s 59us/sample - loss: 0.2940 - accuracy: 0.8676\n"
     ]
    },
    {
     "data": {
      "text/plain": [
       "[0.29403656775548576, 0.86757994]"
      ]
     },
     "execution_count": 26,
     "metadata": {},
     "output_type": "execute_result"
    }
   ],
   "source": [
    "model.evaluate(X_test, Y_test)"
   ]
  },
  {
   "cell_type": "markdown",
   "metadata": {},
   "source": [
    "<h1>Plots</h1>"
   ]
  },
  {
   "cell_type": "code",
   "execution_count": 27,
   "metadata": {},
   "outputs": [
    {
     "data": {
      "image/png": "[encoded data removed]",
      "text/plain": [
       "<Figure size 432x288 with 1 Axes>"
      ]
     },
     "metadata": {
      "needs_background": "light"
     },
     "output_type": "display_data"
    },
    {
     "data": {
      "image/png": "[encoded data removed]",
      "text/plain": [
       "<Figure size 432x288 with 1 Axes>"
      ]
     },
     "metadata": {
      "needs_background": "light"
     },
     "output_type": "display_data"
    }
   ],
   "source": [
    "# PLot the losses\n",
    "plt.plot(hist.history['loss'])\n",
    "plt.plot(hist.history['val_loss'])\n",
    "plt.title('Model loss')\n",
    "plt.ylabel('Loss')\n",
    "plt.xlabel('Epoch')\n",
    "plt.legend(['Train', 'Val'], loc='upper right')\n",
    "plt.show()\n",
    "\n",
    "# PLot the accuracies\n",
    "plt.plot(hist.history['accuracy'])\n",
    "plt.plot(hist.history['val_accuracy'])\n",
    "plt.title('Model accuracy')\n",
    "plt.ylabel('Accuracy')\n",
    "plt.xlabel('Epoch')\n",
    "plt.legend(['Train', 'Val'], loc='lower right')\n",
    "plt.show()"
   ]
  },
  {
   "cell_type": "code",
   "execution_count": null,
   "metadata": {},
   "outputs": [],
   "source": []
  }
 ],
 "metadata": {
  "kernelspec": {
   "display_name": "Python 3",
   "language": "python",
   "name": "python3"
  },
  "language_info": {
   "codemirror_mode": {
    "name": "ipython",
    "version": 3
   },
   "file_extension": ".py",
   "mimetype": "text/x-python",
   "name": "python",
   "nbconvert_exporter": "python",
   "pygments_lexer": "ipython3",
   "version": "3.7.9"
  }
 },
 "nbformat": 4,
 "nbformat_minor": 4
}
